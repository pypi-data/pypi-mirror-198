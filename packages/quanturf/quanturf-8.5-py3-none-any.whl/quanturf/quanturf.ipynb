{
 "cells": [
  {
   "cell_type": "markdown",
   "metadata": {},
   "source": [
    "# Welcome to Quanturf! \n",
    "\n",
    "### End to end Algo Trading made seamless!"
   ]
  },
  {
   "attachments": {},
   "cell_type": "markdown",
   "metadata": {},
   "source": [
    "### Templates based on Blankly and Alpaca\n",
    "\n",
    "* [1. Momentum based Strategies]\n",
    "    * [1.1. Golden Cross](E:\\venv\\Lib\\site-packages\\quanturf\\golden_cross.ipynb)\n",
    "    * [1.2. RSI](RSI.ipynb)\n",
    "* [2. Mean Reversion based Strategies]\n",
    "    * [2.1 MACD](MACD.ipynb)\n",
    "* [3. AI & Machine Learning based]\n",
    "    * [3.1 MLP](mlp_model.ipynb)\n",
    "* [4. Helper functions and Code]\n",
    "    * [3.1 Download Data](download_data.ipynb)"
   ]
  }
 ],
 "metadata": {
  "kernelspec": {
   "display_name": "Python 3",
   "language": "python",
   "name": "python3"
  },
  "language_info": {
   "codemirror_mode": {
    "name": "ipython",
    "version": 3
   },
   "file_extension": ".py",
   "mimetype": "text/x-python",
   "name": "python",
   "nbconvert_exporter": "python",
   "pygments_lexer": "ipython3",
   "version": "3.10.5 (tags/v3.10.5:f377153, Jun  6 2022, 16:14:13) [MSC v.1929 64 bit (AMD64)]"
  },
  "vscode": {
   "interpreter": {
    "hash": "c7075926691b5d490a0a7263e85b69d9e955c5305ab6cceedcd1a7ba0df970ba"
   }
  }
 },
 "nbformat": 4,
 "nbformat_minor": 4
}
