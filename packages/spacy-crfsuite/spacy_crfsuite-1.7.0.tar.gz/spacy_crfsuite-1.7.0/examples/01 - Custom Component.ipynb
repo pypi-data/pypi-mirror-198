{
 "cells": [
  {
   "cell_type": "code",
   "execution_count": 1,
   "metadata": {},
   "outputs": [
    {
     "data": {
      "text/markdown": [
       "## restaurant_search\n",
       "- i'm looking for a place to eat\n",
       "- I want to grab lunch\n",
       "- I am searching for a dinner spot\n",
       "- i'm looking for a place in the [north](location) of town\n",
       "- show me [chinese](cuisine) restaurants\n",
       "- show me [chines](cuisine:chinese) restaurants in the [north](location)\n",
       "- show me a [mexican](cuisine) place in the [centre](location)\n",
       "- i am looking for an [indian](cuisine) spot called olaolaolaolaolaola\n",
       "- search for restaurants\n",
       "- anywhere in the [west](location)\n",
       "- anywhere near [18328](location)\n",
       "- I am looking for [asian fusion](cuisine) food\n",
       "- I am looking a restaurant in [29432](location)\n",
       "- I am looking for [mexican indian fusion](cuisine)\n",
       "- [central](location) [indian](cuisine) restaurant"
      ],
      "text/plain": [
       "<IPython.core.display.Markdown object>"
      ]
     },
     "metadata": {},
     "output_type": "display_data"
    }
   ],
   "source": [
    "from IPython.display import display, Markdown\n",
    "\n",
    "with open(\"restaurent_search.md\", \"r\") as f:\n",
    "    display(Markdown(f.read()))"
   ]
  },
  {
   "cell_type": "code",
   "execution_count": null,
   "metadata": {},
   "outputs": [],
   "source": []
  },
  {
   "cell_type": "code",
   "execution_count": 2,
   "metadata": {},
   "outputs": [
    {
     "data": {
      "text/plain": [
       "[{'text': \"i'm looking for a place to eat\", 'entities': []},\n",
       " {'text': 'I want to grab lunch', 'entities': []},\n",
       " {'text': 'I am searching for a dinner spot', 'entities': []},\n",
       " {'text': \"i'm looking for a place in the north of town\",\n",
       "  'entities': [{'start': 31,\n",
       "    'end': 36,\n",
       "    'value': 'north',\n",
       "    'entity': 'location'}]},\n",
       " {'text': 'show me chinese restaurants',\n",
       "  'entities': [{'start': 8,\n",
       "    'end': 15,\n",
       "    'value': 'chinese',\n",
       "    'entity': 'cuisine'}]},\n",
       " {'text': 'show me chines restaurants in the north',\n",
       "  'entities': [{'start': 8,\n",
       "    'end': 14,\n",
       "    'value': 'chinese',\n",
       "    'entity': 'cuisine'},\n",
       "   {'start': 34, 'end': 39, 'value': 'north', 'entity': 'location'}]},\n",
       " {'text': 'show me a mexican place in the centre',\n",
       "  'entities': [{'start': 10,\n",
       "    'end': 17,\n",
       "    'value': 'mexican',\n",
       "    'entity': 'cuisine'},\n",
       "   {'start': 31, 'end': 37, 'value': 'centre', 'entity': 'location'}]},\n",
       " {'text': 'i am looking for an indian spot called olaolaolaolaolaola',\n",
       "  'entities': [{'start': 20,\n",
       "    'end': 26,\n",
       "    'value': 'indian',\n",
       "    'entity': 'cuisine'}]},\n",
       " {'text': 'search for restaurants', 'entities': []},\n",
       " {'text': 'anywhere in the west',\n",
       "  'entities': [{'start': 16,\n",
       "    'end': 20,\n",
       "    'value': 'west',\n",
       "    'entity': 'location'}]},\n",
       " {'text': 'anywhere near 18328',\n",
       "  'entities': [{'start': 14,\n",
       "    'end': 19,\n",
       "    'value': '18328',\n",
       "    'entity': 'location'}]},\n",
       " {'text': 'I am looking for asian fusion food',\n",
       "  'entities': [{'start': 17,\n",
       "    'end': 29,\n",
       "    'value': 'asian fusion',\n",
       "    'entity': 'cuisine'}]},\n",
       " {'text': 'I am looking a restaurant in 29432',\n",
       "  'entities': [{'start': 29,\n",
       "    'end': 34,\n",
       "    'value': '29432',\n",
       "    'entity': 'location'}]},\n",
       " {'text': 'I am looking for mexican indian fusion',\n",
       "  'entities': [{'start': 17,\n",
       "    'end': 38,\n",
       "    'value': 'mexican indian fusion',\n",
       "    'entity': 'cuisine'}]},\n",
       " {'text': 'central indian restaurant',\n",
       "  'entities': [{'start': 0,\n",
       "    'end': 7,\n",
       "    'value': 'central',\n",
       "    'entity': 'location'},\n",
       "   {'start': 8, 'end': 14, 'value': 'indian', 'entity': 'cuisine'}]}]"
      ]
     },
     "execution_count": 2,
     "metadata": {},
     "output_type": "execute_result"
    }
   ],
   "source": [
    "from spacy_crfsuite import read_file\n",
    "\n",
    "train_data = read_file(\"restaurent_search.md\")\n",
    "train_data"
   ]
  },
  {
   "cell_type": "code",
   "execution_count": null,
   "metadata": {},
   "outputs": [],
   "source": []
  },
  {
   "cell_type": "code",
   "execution_count": 3,
   "metadata": {},
   "outputs": [
    {
     "name": "stderr",
     "output_type": "stream",
     "text": [
      "/Users/talmago/git/spacy_crfsuite/.venv/lib/python3.6/site-packages/spacy/util.py:275: UserWarning: [W031] Model 'en_core_web_sm' (2.2.5) requires spaCy v2.2 and is incompatible with the current spaCy version (2.3.2). This may lead to unexpected results or runtime errors. To resolve this, download a newer compatible model or retrain your custom model with the current spaCy version. For more details and available updates, run: python -m spacy validate\n",
      "  warnings.warn(warn_msg)\n"
     ]
    },
    {
     "data": {
      "text/plain": [
       "[CRFToken(text='i', tag='PRP', entity='O', shape='x', pattern={}, dense_features=[]),\n",
       " CRFToken(text=\"'m\", tag='VBP', entity='O', shape=\"'x\", pattern={}, dense_features=[]),\n",
       " CRFToken(text='looking', tag='VBG', entity='O', shape='xxxx', pattern={}, dense_features=[]),\n",
       " CRFToken(text='for', tag='IN', entity='O', shape='xxx', pattern={}, dense_features=[]),\n",
       " CRFToken(text='a', tag='DT', entity='O', shape='x', pattern={}, dense_features=[]),\n",
       " CRFToken(text='place', tag='NN', entity='O', shape='xxxx', pattern={}, dense_features=[]),\n",
       " CRFToken(text='to', tag='TO', entity='O', shape='xx', pattern={}, dense_features=[]),\n",
       " CRFToken(text='eat', tag='VB', entity='O', shape='xxx', pattern={}, dense_features=[])]"
      ]
     },
     "execution_count": 3,
     "metadata": {},
     "output_type": "execute_result"
    }
   ],
   "source": [
    "import spacy\n",
    "\n",
    "from spacy_crfsuite.tokenizer import SpacyTokenizer\n",
    "from spacy_crfsuite.train import gold_example_to_crf_tokens\n",
    "\n",
    "nlp = spacy.load(\"en_core_web_sm\", disable=[\"ner\"])\n",
    "tokenizer = SpacyTokenizer(nlp)\n",
    "\n",
    "train_dataset = [\n",
    "    gold_example_to_crf_tokens(ex, tokenizer=tokenizer) \n",
    "    for ex in train_data\n",
    "]\n",
    "\n",
    "train_dataset[0]"
   ]
  },
  {
   "cell_type": "code",
   "execution_count": null,
   "metadata": {},
   "outputs": [],
   "source": []
  },
  {
   "cell_type": "code",
   "execution_count": 4,
   "metadata": {},
   "outputs": [
    {
     "data": {
      "text/plain": [
       "{'features': [['low', 'title', 'upper'],\n",
       "  ['low',\n",
       "   'bias',\n",
       "   'prefix5',\n",
       "   'prefix2',\n",
       "   'suffix5',\n",
       "   'suffix3',\n",
       "   'suffix2',\n",
       "   'upper',\n",
       "   'title',\n",
       "   'digit'],\n",
       "  ['low', 'title', 'upper']],\n",
       " 'c1': 0.003,\n",
       " 'c2': 0.03}"
      ]
     },
     "execution_count": 4,
     "metadata": {},
     "output_type": "execute_result"
    }
   ],
   "source": [
    "import srsly\n",
    "\n",
    "component_config = srsly.read_json(\"default-config.json\")\n",
    "component_config"
   ]
  },
  {
   "cell_type": "code",
   "execution_count": null,
   "metadata": {},
   "outputs": [],
   "source": []
  },
  {
   "cell_type": "code",
   "execution_count": 5,
   "metadata": {},
   "outputs": [
    {
     "data": {
      "text/plain": [
       "<spacy_crfsuite.crf_extractor.CRFExtractor at 0x12e12a048>"
      ]
     },
     "execution_count": 5,
     "metadata": {},
     "output_type": "execute_result"
    }
   ],
   "source": [
    "from spacy_crfsuite import CRFExtractor\n",
    "\n",
    "crf_extractor = CRFExtractor(component_config=component_config)\n",
    "crf_extractor"
   ]
  },
  {
   "cell_type": "code",
   "execution_count": null,
   "metadata": {},
   "outputs": [],
   "source": []
  },
  {
   "cell_type": "code",
   "execution_count": null,
   "metadata": {},
   "outputs": [],
   "source": []
  },
  {
   "cell_type": "code",
   "execution_count": 6,
   "metadata": {},
   "outputs": [
    {
     "name": "stdout",
     "output_type": "stream",
     "text": [
      "Fitting 5 folds for each of 50 candidates, totalling 250 fits\n"
     ]
    },
    {
     "name": "stderr",
     "output_type": "stream",
     "text": [
      "/Users/talmago/git/spacy_crfsuite/.venv/lib/python3.6/site-packages/sklearn/base.py:213: FutureWarning: From version 0.24, get_params will raise an AttributeError if a parameter cannot be retrieved as an instance attribute. Previously it would return None.\n",
      "  FutureWarning)\n",
      "[Parallel(n_jobs=-1)]: Using backend LokyBackend with 8 concurrent workers.\n",
      "[Parallel(n_jobs=-1)]: Done  34 tasks      | elapsed:    1.4s\n"
     ]
    },
    {
     "name": "stdout",
     "output_type": "stream",
     "text": [
      "best_params: {'c1': 0.4487523606548803, 'c2': 0.0023781924878204276} , score: 0.22222222222222224\n"
     ]
    },
    {
     "name": "stderr",
     "output_type": "stream",
     "text": [
      "[Parallel(n_jobs=-1)]: Done 250 out of 250 | elapsed:    2.4s finished\n"
     ]
    },
    {
     "data": {
      "text/plain": [
       "<spacy_crfsuite.crf_extractor.CRFExtractor at 0x12e12a048>"
      ]
     },
     "execution_count": 6,
     "metadata": {},
     "output_type": "execute_result"
    }
   ],
   "source": [
    "rs = crf_extractor.fine_tune(train_dataset, cv=5, n_iter=50, random_state=42)\n",
    "print(\"best_params:\", rs.best_params_, \", score:\", rs.best_score_)\n",
    "crf_extractor.train(train_dataset)"
   ]
  },
  {
   "cell_type": "code",
   "execution_count": null,
   "metadata": {},
   "outputs": [],
   "source": []
  },
  {
   "cell_type": "code",
   "execution_count": null,
   "metadata": {},
   "outputs": [],
   "source": []
  },
  {
   "cell_type": "code",
   "execution_count": 7,
   "metadata": {},
   "outputs": [
    {
     "name": "stdout",
     "output_type": "stream",
     "text": [
      "              precision    recall  f1-score   support\n",
      "\n",
      "   B-cuisine      1.000     1.000     1.000         2\n",
      "   I-cuisine      1.000     1.000     1.000         1\n",
      "   L-cuisine      1.000     1.000     1.000         2\n",
      "   U-cuisine      1.000     1.000     1.000         5\n",
      "  U-location      1.000     1.000     1.000         7\n",
      "\n",
      "   micro avg      1.000     1.000     1.000        17\n",
      "   macro avg      1.000     1.000     1.000        17\n",
      "weighted avg      1.000     1.000     1.000        17\n",
      "\n"
     ]
    },
    {
     "name": "stderr",
     "output_type": "stream",
     "text": [
      "/Users/talmago/git/spacy_crfsuite/.venv/lib/python3.6/site-packages/sklearn/utils/validation.py:71: FutureWarning: Pass labels=['B-cuisine', 'I-cuisine', 'L-cuisine', 'U-cuisine', 'U-location'] as keyword args. From version 0.25 passing these as positional arguments will result in an error\n",
      "  FutureWarning)\n"
     ]
    }
   ],
   "source": [
    "# ! pip install sklearn\n",
    "\n",
    "classification_report = crf_extractor.eval(train_dataset)\n",
    "print(classification_report[1])"
   ]
  },
  {
   "cell_type": "code",
   "execution_count": null,
   "metadata": {},
   "outputs": [],
   "source": []
  },
  {
   "cell_type": "code",
   "execution_count": 8,
   "metadata": {},
   "outputs": [
    {
     "name": "stdout",
     "output_type": "stream",
     "text": [
      "Most likely transitions:\n",
      "O          -> O          1.637338\n",
      "B-cuisine  -> I-cuisine  1.373766\n",
      "U-cuisine  -> O          1.306077\n",
      "I-cuisine  -> L-cuisine  0.915989\n",
      "O          -> U-location 0.751463\n",
      "B-cuisine  -> L-cuisine  0.698893\n",
      "O          -> U-cuisine  0.480360\n",
      "U-location -> U-cuisine  0.403487\n",
      "O          -> B-cuisine  0.261450\n",
      "L-cuisine  -> O          0.182695\n",
      "\n",
      "Positive features:\n",
      "1.976502 O          0:bias:bias\n",
      "1.957180 U-location -1:low:the\n",
      "1.216547 B-cuisine  -1:low:for\n",
      "1.153924 U-location 0:prefix5:centr\n",
      "1.153924 U-location 0:prefix2:ce\n",
      "1.110536 U-location 0:digit\n",
      "1.058294 U-cuisine  0:prefix5:chine\n",
      "1.058294 U-cuisine  0:prefix2:ch\n",
      "1.051457 U-cuisine  0:suffix2:an\n",
      "0.999976 U-cuisine  -1:low:me\n"
     ]
    }
   ],
   "source": [
    "print(crf_extractor.explain())"
   ]
  },
  {
   "cell_type": "code",
   "execution_count": null,
   "metadata": {},
   "outputs": [],
   "source": []
  },
  {
   "cell_type": "code",
   "execution_count": 9,
   "metadata": {},
   "outputs": [
    {
     "data": {
      "text/plain": [
       "[{'start': 5,\n",
       "  'end': 12,\n",
       "  'value': 'mexican',\n",
       "  'entity': 'cuisine',\n",
       "  'confidence': 0.6679336521223249},\n",
       " {'start': 28,\n",
       "  'end': 33,\n",
       "  'value': 'north',\n",
       "  'entity': 'location',\n",
       "  'confidence': 0.946416065624759}]"
      ]
     },
     "execution_count": 9,
     "metadata": {},
     "output_type": "execute_result"
    }
   ],
   "source": [
    "example = {\"text\": \"show mexican restaurents up north\"}\n",
    "tokenizer.tokenize(example, attribute=\"text\")\n",
    "crf_extractor.process(example)"
   ]
  },
  {
   "cell_type": "code",
   "execution_count": null,
   "metadata": {},
   "outputs": [],
   "source": []
  },
  {
   "cell_type": "code",
   "execution_count": 10,
   "metadata": {},
   "outputs": [
    {
     "name": "stdout",
     "output_type": "stream",
     "text": [
      "mexican -- cuisine\n",
      "north -- location\n"
     ]
    }
   ],
   "source": [
    "import spacy\n",
    "\n",
    "from spacy_crfsuite import CRFEntityExtractor\n",
    "\n",
    "pipe = CRFEntityExtractor(nlp, crf_extractor=crf_extractor)\n",
    "nlp.add_pipe(pipe)\n",
    "\n",
    "doc = nlp(\"show mexican restaurents up north\")\n",
    "for ent in doc.ents:\n",
    "    print(ent.text, \"--\", ent.label_)"
   ]
  },
  {
   "cell_type": "code",
   "execution_count": null,
   "metadata": {},
   "outputs": [],
   "source": []
  },
  {
   "cell_type": "code",
   "execution_count": 11,
   "metadata": {},
   "outputs": [],
   "source": [
    "# Save model to disk ...\n",
    "# crf_extractor.to_disk()"
   ]
  },
  {
   "cell_type": "code",
   "execution_count": null,
   "metadata": {},
   "outputs": [],
   "source": []
  }
 ],
 "metadata": {
  "kernelspec": {
   "display_name": "Python 3",
   "language": "python",
   "name": "python3"
  },
  "language_info": {
   "codemirror_mode": {
    "name": "ipython",
    "version": 3
   },
   "file_extension": ".py",
   "mimetype": "text/x-python",
   "name": "python",
   "nbconvert_exporter": "python",
   "pygments_lexer": "ipython3",
   "version": "3.6.9"
  }
 },
 "nbformat": 4,
 "nbformat_minor": 4
}
