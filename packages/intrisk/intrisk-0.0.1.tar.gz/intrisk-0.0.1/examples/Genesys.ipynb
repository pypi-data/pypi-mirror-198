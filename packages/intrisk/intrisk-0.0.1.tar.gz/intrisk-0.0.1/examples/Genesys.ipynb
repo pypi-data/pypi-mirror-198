{
 "cells": [
  {
   "attachments": {},
   "cell_type": "markdown",
   "id": "171951d1-1219-4acf-ad6d-eb567a078a50",
   "metadata": {},
   "source": [
    "## First Example \n",
    "You can try out IntRisk by using cloud-computing platforms below without having to install anything on your computer:\n",
    "\n",
    "[![image](https://colab.research.google.com/assets/colab-badge.svg)](https://colab.research.google.com/github/felwind14/IntRisk/blob/main/examples/Genesys.ipynb)"
   ]
  },
  {
   "cell_type": "code",
   "execution_count": 1,
   "id": "25919397-8a96-441b-92dc-ea9f68cd7d01",
   "metadata": {},
   "outputs": [
    {
     "name": "stdout",
     "output_type": "stream",
     "text": [
      "Hello world\n"
     ]
    }
   ],
   "source": [
    "print(\"Hello world\")"
   ]
  }
 ],
 "metadata": {
  "kernelspec": {
   "display_name": "Python 3 (ipykernel)",
   "language": "python",
   "name": "python3"
  },
  "language_info": {
   "codemirror_mode": {
    "name": "ipython",
    "version": 3
   },
   "file_extension": ".py",
   "mimetype": "text/x-python",
   "name": "python",
   "nbconvert_exporter": "python",
   "pygments_lexer": "ipython3",
   "version": "3.9.13"
  }
 },
 "nbformat": 4,
 "nbformat_minor": 5
}
