{
  "cells": [
    {
      "cell_type": "code",
      "execution_count": null,
      "metadata": {
        "id": "LllC-MPI7phV"
      },
      "outputs": [],
      "source": [
        "#@title Install Dependencies { display-mode: \"form\" }\n",
        "\n",
        "!pip install inquirer transformers sty rwkvstic\n",
        "import os"
      ]
    },
    {
      "cell_type": "code",
      "execution_count": 2,
      "metadata": {
        "id": "v6gzfDru7phX",
        "outputId": "37b9a578-769d-40fb-f5f1-bbc2016008b3",
        "colab": {
          "base_uri": "https://localhost:8080/"
        }
      },
      "outputs": [
        {
          "output_type": "stream",
          "name": "stdout",
          "text": [
            "init RWKVOPS, from super\n"
          ]
        }
      ],
      "source": [
        "#@title Download and Initialize model { display-mode: \"form\" }\n",
        "from rwkvstic.load import RWKV\n",
        "\n",
        "model = RWKV(\n",
        "    \"https://huggingface.co/Hazzzardous/RWKV-8Bit/resolve/main/RWKV-4-Pile-7B-Instruct.pqth\"\n",
        ")"
      ]
    },
    {
      "cell_type": "code",
      "execution_count": 23,
      "metadata": {
        "id": "1n-qXBUY7phX",
        "outputId": "61cdf901-99a0-4302-8549-a22dd78a43c1",
        "colab": {
          "base_uri": "https://localhost:8080/",
          "height": 185
        }
      },
      "outputs": [
        {
          "output_type": "stream",
          "name": "stderr",
          "text": [
            "100%|██████████| 18/18 [00:05<00:00,  3.40it/s]\n"
          ]
        },
        {
          "output_type": "execute_result",
          "data": {
            "text/plain": [
              "<IPython.core.display.HTML object>"
            ],
            "text/html": [
              "<p> Although, Alexander The Great is widely lauded as one of the greatest conquerors and statesmen, his behavior as an emperor and his deviation from policies of peace and stability caused him to have a very dubious reputation. Although he had many war campaigns and won many victories during his reign, they had consequences later on his life. For example, he crossed the Shatt al Arab, a major trading route between the Aegean Sea and the Persian Gulf and the Persian homeland, and he found the borders of the empire shrinking, which made it difficult for him to exert his rule over his empire.<br><br>This had dire consequences in his time and history, as he was left with a shrinking empire and the difficult task of controlling his empire as he grew older and saw his empire begin to crumble. A result of his expansions and his pursuit of glory led to the first Persian Empire, and many subsequent world empires, such as the Roman Empire and the Byzantine, were a direct result of</p>"
            ]
          },
          "metadata": {},
          "execution_count": 23
        }
      ],
      "source": [
        "#@title Ask Question { display-mode: \"form\" }\n",
        "model.resetState()\n",
        "Prompt = \"Who is alexander the great?\" #@param {type:\"string\"}\n",
        "Tokens = 200 #@param {type:\"number\"}\n",
        "model.loadContext(\"\\n\",\n",
        "                                     f\"Prompt: {Prompt}?\\n\\nExpert Long Answer:\")\n",
        "out = model.forward(number=Tokens)[\"output\"]\n",
        "import IPython\n",
        "nl = \"\\n\"\n",
        "IPython.display.HTML(f\"<p>{out.replace(nl,'<br>')}</p>\")"
      ]
    }
  ],
  "metadata": {
    "language_info": {
      "name": "python"
    },
    "orig_nbformat": 4,
    "colab": {
      "provenance": []
    },
    "kernelspec": {
      "name": "python3",
      "display_name": "Python 3"
    },
    "gpuClass": "standard",
    "accelerator": "GPU"
  },
  "nbformat": 4,
  "nbformat_minor": 0
}