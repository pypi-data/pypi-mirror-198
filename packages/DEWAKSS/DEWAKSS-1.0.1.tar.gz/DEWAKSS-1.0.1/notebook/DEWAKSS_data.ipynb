{
 "cells": [
  {
   "cell_type": "code",
   "execution_count": null,
   "metadata": {},
   "outputs": [],
   "source": [
    "import pandas as pd\n",
    "import numpy as np\n",
    "pd.set_option('precision',3)\n",
    "np.set_printoptions(precision=3, linewidth=1000)\n",
    "\n",
    "import matplotlib as mpl\n",
    "import matplotlib.pyplot as plt\n",
    "import seaborn as sns\n",
    "\n",
    "# color_pallet = \"muted\"\n",
    "color_pallet = \"deep\"\n",
    "plt.style.use('seaborn-ticks')\n",
    "sns.set_color_codes(color_pallet)\n",
    "plt.rcParams['svg.fonttype'] = 'none'\n",
    "\n",
    "import scanpy as sc\n",
    "import os\n",
    "\n",
    "datadir = os.path.join(\"..\", \"data\", gitbranch)\n",
    "plt.rcParams['svg.fonttype'] = 'none'\n",
    "\n",
    "sc.settings.figdir = figdir\n",
    "sc.settings.file_format_figs = \"svg\""
   ]
  },
  {
   "cell_type": "markdown",
   "metadata": {},
   "source": [
    "# Denoise data\n",
    "\n",
    "Load data that has been preprocessed, Count normalized and transformed."
   ]
  },
  {
   "cell_type": "code",
   "execution_count": null,
   "metadata": {},
   "outputs": [],
   "source": [
    "adata = sc.read(os.path.join(datadir, \"adata_filtered.h5ad\"))"
   ]
  },
  {
   "cell_type": "code",
   "execution_count": null,
   "metadata": {},
   "outputs": [],
   "source": [
    "from dewakss import denoise as dewakss"
   ]
  },
  {
   "cell_type": "code",
   "execution_count": null,
   "metadata": {},
   "outputs": [],
   "source": [
    "# neigbours = list(range(3,251))\n",
    "neigbours = list(range(3, 100, 5))\n",
    "npcss = [50, 100, 200]\n",
    "# pca_args = {'use_highly_variable': True} #  This will effect the umap.\n",
    "pca_args = {}\n",
    "\n",
    "dewaxer = dewakss.DEWAKSS(adata, n_neighbors=neigbours, n_pcs=npcss, use_global_err=False, create_layer='denoised', modest='max', pca_args=pca_args)\n",
    "dewaxer.fit(adata)"
   ]
  },
  {
   "cell_type": "code",
   "execution_count": null,
   "metadata": {
    "scrolled": false
   },
   "outputs": [],
   "source": [
    "fig, ax = dewaxer.plot_global_performance()\n",
    "fig, ax = dewaxer.plot_local_performance()\n",
    "fig, ax = dewaxer.plot_local_neighbour_hist()"
   ]
  },
  {
   "cell_type": "code",
   "execution_count": null,
   "metadata": {},
   "outputs": [],
   "source": [
    "dewaxer.transform(adata, copy=False)"
   ]
  },
  {
   "cell_type": "code",
   "execution_count": null,
   "metadata": {},
   "outputs": [],
   "source": [
    "print(adata)\n",
    "adata.write(os.path.join(datadir, \"adata_dewakss_computed.h5ad\"))"
   ]
  },
  {
   "cell_type": "markdown",
   "metadata": {},
   "source": [
    "# Analyse denoised data"
   ]
  },
  {
   "cell_type": "code",
   "execution_count": null,
   "metadata": {},
   "outputs": [],
   "source": [
    "adata = sc.read(os.path.join(datadir, \"adata_dewakss_computed.h5ad\"))"
   ]
  },
  {
   "cell_type": "code",
   "execution_count": null,
   "metadata": {},
   "outputs": [],
   "source": [
    "adata.layers['norm'] = adata.X.copy()\n",
    "adata.X = adata.layers['denoised'].copy()"
   ]
  }
 ],
 "metadata": {
  "kernelspec": {
   "display_name": "Python 3",
   "language": "python",
   "name": "python3"
  },
  "language_info": {
   "codemirror_mode": {
    "name": "ipython",
    "version": 3
   },
   "file_extension": ".py",
   "mimetype": "text/x-python",
   "name": "python",
   "nbconvert_exporter": "python",
   "pygments_lexer": "ipython3",
   "version": "3.8.5"
  }
 },
 "nbformat": 4,
 "nbformat_minor": 4
}
