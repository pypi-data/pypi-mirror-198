{
 "metadata": {
  "language_info": {
   "codemirror_mode": {
    "name": "ipython",
    "version": 3
   },
   "file_extension": ".py",
   "mimetype": "text/x-python",
   "name": "python",
   "nbconvert_exporter": "python",
   "pygments_lexer": "ipython3",
   "version": 3
  },
  "orig_nbformat": 2
 },
 "nbformat": 4,
 "nbformat_minor": 2,
 "cells": [
  {
   "cell_type": "code",
   "execution_count": null,
   "metadata": {},
   "outputs": [],
   "source": [
    "# :: requirements.txt [raw]: '\n",
    "# :: dep \n",
    "# :: dep-a b c  \n",
    "# :: dep 3\n",
    "# :: ' ::"
   ]
  },
  {
   "cell_type": "code",
   "execution_count": null,
   "metadata": {},
   "outputs": [],
   "source": [
    "# :: requirements.txt [raw]: '\n",
    "# :: dep 4\n",
    "# :: # dep 4\n",
    "# :: dep 6 \n",
    "# :: ' ::"
   ]
  }
 ]
}