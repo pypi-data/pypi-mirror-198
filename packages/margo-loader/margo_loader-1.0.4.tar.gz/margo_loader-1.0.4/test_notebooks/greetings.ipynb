{
 "metadata": {
  "language_info": {
   "codemirror_mode": {
    "name": "ipython",
    "version": 3
   },
   "file_extension": ".py",
   "mimetype": "text/x-python",
   "name": "python",
   "nbconvert_exporter": "python",
   "pygments_lexer": "ipython3",
   "version": "3.8.5-final"
  },
  "orig_nbformat": 2,
  "kernelspec": {
   "name": "Python 3.8.5 64-bit ('venv')",
   "display_name": "Python 3.8.5 64-bit ('venv')",
   "metadata": {
    "interpreter": {
     "hash": "2307ac9ead7c8b6249e57c2a70eef3ec9d17b83d88277be7085fcc4a49087718"
    }
   }
  }
 },
 "nbformat": 4,
 "nbformat_minor": 2,
 "cells": [
  {
   "source": [
    "# Greetings\n",
    "\n",
    "This notebook demonstrates how to use Margo to annotate a notebook to be treated as a module by Margo Loader with virtual submodules. It defines two submodules, `grumpy` and `nice`, each of which have their own `say_hello()` function.\n",
    "\n",
    "This Notebook demonstrates the `ignore-cell` directive and the `submodule` assignment features of Margo Loader. \n",
    "\n",
    "Also, everything in this cell is treated as the __docstring__ for the notebook when it is imported as a module!\n"
   ],
   "cell_type": "markdown",
   "metadata": {}
  },
  {
   "cell_type": "code",
   "execution_count": 3,
   "metadata": {},
   "outputs": [],
   "source": [
    "# :: submodule: \"grumpy\" ::\n",
    "def say_hello(to=\"world\"):\n",
    "    return f\"Oh, uhh, hi {to}...\""
   ]
  },
  {
   "cell_type": "code",
   "execution_count": 4,
   "metadata": {
    "tags": []
   },
   "outputs": [
    {
     "output_type": "stream",
     "name": "stdout",
     "text": "Oh, uhh, hi world...\n"
    }
   ],
   "source": [
    "# :: ignore-cell ::\n",
    "print(say_hello())"
   ]
  },
  {
   "cell_type": "code",
   "execution_count": 5,
   "metadata": {},
   "outputs": [],
   "source": [
    "# :: submodule: \"nice\" ::\n",
    "def say_hello(to=\"world\"):\n",
    "  return f\"Hello, {to}! Nice to see you.\""
   ]
  },
  {
   "cell_type": "code",
   "execution_count": 6,
   "metadata": {
    "tags": []
   },
   "outputs": [
    {
     "output_type": "stream",
     "name": "stdout",
     "text": "Hello, world! Nice to see you.\n"
    }
   ],
   "source": [
    "# :: ignore-cell ::\n",
    "print(say_hello())"
   ]
  }
 ]
}