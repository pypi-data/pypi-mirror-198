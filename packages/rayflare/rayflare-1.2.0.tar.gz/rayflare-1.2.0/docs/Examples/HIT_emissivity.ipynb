{
 "cells": [
  {
   "cell_type": "markdown",
   "metadata": {
    "pycharm": {
     "name": "#%% md\n"
    }
   },
   "source": [
    "# Calculation of absorptivity/emissivity of a silicon heterojunction cell with pyramid textures\n",
    "This example calculates the absorption (and thus emissivity) in all the individual layers of a silicon heterojunction (HIT) solar cell. [This paper](https://doi.org/10.1016/j.solmat.2019.110051) gives more details.\n",
    "\n",
    "Start with relevant imports:"
   ]
  },
  {
   "cell_type": "code",
   "execution_count": 1,
   "metadata": {
    "pycharm": {
     "name": "#%%\n"
    }
   },
   "outputs": [],
   "source": [
    "import numpy as np\n",
    "import os\n",
    "\n",
    "from solcore.structure import Layer\n",
    "from solcore import material\n",
    "from solcore.light_source import LightSource\n",
    "from solcore.constants import q\n",
    "\n",
    "from rayflare.textures import regular_pyramids\n",
    "from rayflare.structure import Interface, BulkLayer, Structure\n",
    "from rayflare.matrix_formalism import calculate_RAT\n",
    "from rayflare.matrix_formalism import process_structure\n",
    "from rayflare.options import default_options\n",
    "\n",
    "import matplotlib.pyplot as plt\n",
    "import seaborn as sns\n",
    "\n",
    "from cycler import cycler"
   ]
  },
  {
   "cell_type": "markdown",
   "metadata": {
    "pycharm": {
     "name": "#%% md\n"
    }
   },
   "source": [
    "We then generate the wavelengths (equally spaced between 300 nm and 16 microns on a log scale) at which to calculate, and set some options. Note that for this example, we are using relatively few rays and angular bins so the example runs in a reasonable amount of time, but this means the results will have a lot of noise due to the stochastic nature of the ray-tracing. "
   ]
  },
  {
   "cell_type": "code",
   "execution_count": 2,
   "metadata": {
    "pycharm": {
     "name": "#%%\n"
    }
   },
   "outputs": [],
   "source": [
    "wavelengths = np.linspace(np.log(300), np.log(16*1000), 104)\n",
    "wavelengths = np.round(np.floor(np.exp(wavelengths))*1e-9, 12)\n",
    "\n",
    "options = default_options()\n",
    "options.wavelengths = wavelengths\n",
    "options.project_name = 'HIT_notebook'\n",
    "options.n_rays = 5000\n",
    "options.n_theta_bins = 20\n",
    "options.nx = 5\n",
    "options.ny = 5"
   ]
  },
  {
   "cell_type": "markdown",
   "metadata": {
    "pycharm": {
     "name": "#%% md\n"
    }
   },
   "source": [
    "Define the materials and the front and back material stacks. These are the layers which are deposited on the surface texture of the Si on each side. Note that these are custom materials (run the non-notebook version of this example in the examples folder to add them to your database)."
   ]
  },
  {
   "cell_type": "code",
   "execution_count": 3,
   "metadata": {
    "pycharm": {
     "name": "#%%\n"
    }
   },
   "outputs": [],
   "source": [
    "Si = material('Si_UVtoMIR')()\n",
    "Air = material('Air')()\n",
    "ITO_front = material('ITO_front')()\n",
    "ITO_back = material('ITO_back')()\n",
    "Ag = material('Ag_Jiang')()\n",
    "aSi_i = material('aSi_i')()\n",
    "aSi_p = material('aSi_p')()\n",
    "aSi_n = material('aSi_n')()\n",
    "\n",
    "\n",
    "# stack based on doi:10.1038/s41563-018-0115-4\n",
    "front_materials = [Layer(80e-9, ITO_front), Layer(6.5e-9, aSi_p), Layer(6.5e-9, aSi_i)]\n",
    "back_materials = [Layer(6.5e-9, aSi_i), Layer(6.5e-9, aSi_p), Layer(240e-9, ITO_back)]"
   ]
  },
  {
   "cell_type": "markdown",
   "metadata": {
    "pycharm": {
     "name": "#%% md\n"
    }
   },
   "source": [
    "Define the surface textures for the front and back surface. These are pyramids in both cases, but because the pyramids are achieved using a chemical etch and are thus 'pointing out' of the surface in both cases. RayFlare defines 'upright' relative to the direction from which light is coming in, so the pyramids on the front surface are upright while those on the back surface are inverted (upright=False). The surface textures are used in combination with the layer stacks defined above to define the Interfaces of the cell, which are to be treated with the 'RT_TMM' method (ray-tracing + transfer-matrix method to correctly treat the surface layers). Then, finally, the bulk of the cell (Si) and thus the overall structure (front surface, bulk, back surface) is defined, also specifying the incidence medium above the cell (air) and the semi-infinite transmission medium behind the cell (silver)."
   ]
  },
  {
   "cell_type": "code",
   "execution_count": 4,
   "metadata": {
    "pycharm": {
     "name": "#%%\n"
    }
   },
   "outputs": [],
   "source": [
    "surf = regular_pyramids(elevation_angle=55, upright=True)\n",
    "surf_back = regular_pyramids(elevation_angle=55, upright=False)\n",
    "\n",
    "front_surf = Interface('RT_TMM', texture=surf, layers=front_materials, name='HIT_front',\n",
    "                       coherent=True)\n",
    "back_surf = Interface('RT_TMM', texture=surf_back, layers=back_materials, name='HIT_back',\n",
    "                      coherent=True)\n",
    "\n",
    "\n",
    "bulk_Si = BulkLayer(170e-6, Si, name = 'Si_bulk') # bulk thickness in m\n",
    "\n",
    "SC = Structure([front_surf, bulk_Si, back_surf], incidence=Air, transmission=Ag)"
   ]
  },
  {
   "cell_type": "markdown",
   "metadata": {
    "pycharm": {
     "name": "#%% md\n"
    }
   },
   "source": [
    "Now we are finished setting up, we run the calculation. process_structure calculates all the relevant matrices for the front and back surfaces (this can take a while). Then calculate_RAT does the matrix multiplication (this is fast). We then extract relevant results and use them to calculate the predicted photogenerated current in the cell."
   ]
  },
  {
   "cell_type": "code",
   "execution_count": 5,
   "metadata": {
    "pycharm": {
     "name": "#%%\n"
    }
   },
   "outputs": [
    {
     "name": "stdout",
     "output_type": "stream",
     "text": [
      "Making lookuptable for element 0 in structure\n",
      "Existing lookup table found\n",
      "Making lookuptable for element 2 in structure\n",
      "Existing lookup table found\n",
      "Ray tracing with TMM lookup table for element 0 in structure\n",
      "Existing angular redistribution matrices found\n",
      "Existing angular redistribution matrices found\n",
      "Ray tracing with TMM lookup table for element 2 in structure\n",
      "Existing angular redistribution matrices found\n",
      "After iteration 1 : maximum power fraction remaining = 0.6097034485957743\n",
      "After iteration 2 : maximum power fraction remaining = 0.4231168493584152\n",
      "After iteration 3 : maximum power fraction remaining = 0.29274584120143654\n",
      "After iteration 4 : maximum power fraction remaining = 0.20242354720194347\n",
      "After iteration 5 : maximum power fraction remaining = 0.13972317102933673\n",
      "After iteration 6 : maximum power fraction remaining = 0.09641891122644888\n",
      "After iteration 7 : maximum power fraction remaining = 0.06653665716366666\n",
      "After iteration 8 : maximum power fraction remaining = 0.04591593147741026\n",
      "After iteration 9 : maximum power fraction remaining = 0.03168609279992504\n",
      "After iteration 10 : maximum power fraction remaining = 0.021866277368570355\n",
      "After iteration 11 : maximum power fraction remaining = 0.015089717420193792\n",
      "After iteration 12 : maximum power fraction remaining = 0.01041327533750268\n",
      "After iteration 13 : maximum power fraction remaining = 0.00718610544936348\n"
     ]
    }
   ],
   "source": [
    "process_structure(SC, options)\n",
    "\n",
    "results = calculate_RAT(SC, options)\n",
    "\n",
    "RAT = results[0]\n",
    "results_per_pass = results[1]\n",
    "\n",
    "\n",
    "R_per_pass = np.sum(results_per_pass['r'][0], 2)\n",
    "R_0 = R_per_pass[0]\n",
    "R_escape = np.sum(R_per_pass[1:, :], 0)\n",
    "\n",
    "# only select absorbing layers, sum over passes\n",
    "results_per_layer_front = np.sum(results_per_pass['a'][0], 0)\n",
    "\n",
    "results_per_layer_back = np.sum(results_per_pass['a'][1], 0)\n",
    "\n",
    "\n",
    "allres = np.flip(np.stack((results_per_layer_front[:,0],\n",
    "                        results_per_layer_front[:,1]+results_per_layer_front[:,2],\n",
    "                        RAT['A_bulk'][0, :],\n",
    "                        results_per_layer_back[:,0] + results_per_layer_back[:,1],\n",
    "                        results_per_layer_back[:,2], RAT['T'][0, :])), 0)\n",
    "\n",
    "# calculated photogenerated current (Jsc with 100% EQE)\n",
    "\n",
    "spectr_flux = LightSource(source_type='standard', version='AM1.5g',\n",
    "                          x=wavelengths, output_units='photon_flux_per_m',\n",
    "                          concentration=1).spectrum(wavelengths)[1]\n",
    "\n",
    "Jph_Si = q * np.trapz(RAT['A_bulk'][0] * spectr_flux, wavelengths)/10 # mA/cm2"
   ]
  },
  {
   "cell_type": "markdown",
   "metadata": {
    "pycharm": {
     "name": "#%% md\n"
    }
   },
   "source": [
    "Finally, plot the results:"
   ]
  },
  {
   "cell_type": "code",
   "execution_count": 6,
   "metadata": {
    "pycharm": {
     "name": "#%%\n"
    }
   },
   "outputs": [
    {
     "data": {
      "text/plain": "<Figure size 360x288 with 1 Axes>",
      "image/png": "[encoded data removed]"
     },
     "metadata": {
      "needs_background": "light"
     },
     "output_type": "display_data"
    }
   ],
   "source": [
    "pal = sns.cubehelix_palette(allres.shape[0], start=.5, rot=-.9)\n",
    "pal.reverse()\n",
    "cols = cycler('color', pal)\n",
    "\n",
    "params = {'legend.fontsize': 'small',\n",
    "          'axes.labelsize': 'small',\n",
    "          'axes.titlesize': 'small',\n",
    "          'xtick.labelsize': 'small',\n",
    "          'ytick.labelsize': 'small',\n",
    "          'axes.prop_cycle': cols}\n",
    "\n",
    "plt.rcParams.update(params)\n",
    "\n",
    "# plot total R, A, T\n",
    "fig = plt.figure(figsize=(5,4))\n",
    "ax = plt.subplot(111)\n",
    "ax.semilogx(options['wavelengths']*1e6, R_escape + R_0, '--k', label=r'$R_{total}$')\n",
    "ax.semilogx(options['wavelengths']*1e6, R_0, '-.k', label=r'$R_0$')\n",
    "ax.stackplot(options['wavelengths']*1e6, allres,\n",
    "             labels=['Ag', 'Back ITO', 'a-Si (back)', 'Bulk Si', 'a-Si (front)', 'Front ITO'])\n",
    "ax.set_xlabel(r'Wavelength ($\\mu$m)')\n",
    "ax.set_ylabel('Absorption/Emissivity')\n",
    "ax.set_xlim(min(options['wavelengths']*1e6), max(options['wavelengths']*1e6))\n",
    "ax.set_ylim(0, 1)\n",
    "plt.legend()\n",
    "plt.show()"
   ]
  }
 ],
 "metadata": {
  "kernelspec": {
   "display_name": "Python 3",
   "language": "python",
   "name": "python3"
  },
  "language_info": {
   "codemirror_mode": {
    "name": "ipython",
    "version": 3
   },
   "file_extension": ".py",
   "mimetype": "text/x-python",
   "name": "python",
   "nbconvert_exporter": "python",
   "pygments_lexer": "ipython3",
   "version": "3.8.5"
  }
 },
 "nbformat": 4,
 "nbformat_minor": 4
}