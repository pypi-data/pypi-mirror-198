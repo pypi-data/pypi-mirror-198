{
 "cells": [
  {
   "cell_type": "code",
   "execution_count": 24,
   "id": "ac228ba1",
   "metadata": {},
   "outputs": [],
   "source": [
    "import numpy as np\n",
    "import gmdh"
   ]
  },
  {
   "cell_type": "code",
   "execution_count": 32,
   "id": "71c10fec",
   "metadata": {},
   "outputs": [],
   "source": [
    "X = [[1, 2, 3], [4, 5, 6], [7, 8, 9]]\n",
    "y = [10, 11, 12]\n",
    "x_train, x_test, y_train, y_test = gmdh.split_data(X, y, test_size=0.66, shuffle=True, random_state=1)\n",
    "x_train2, x_test2, y_train2, y_test2 = gmdh.split_data(X, y, test_size=0.66, shuffle=True, random_state=1)\n",
    "assert x_train.shape == (1, 3) and np.array_equal(x_train, x_train2)"
   ]
  },
  {
   "cell_type": "code",
   "execution_count": 28,
   "id": "8c1def97",
   "metadata": {},
   "outputs": [
    {
     "data": {
      "text/plain": [
       "array([[1., 2., 3.]])"
      ]
     },
     "execution_count": 28,
     "metadata": {},
     "output_type": "execute_result"
    }
   ],
   "source": [
    "x_train"
   ]
  },
  {
   "cell_type": "code",
   "execution_count": 29,
   "id": "538dfd82",
   "metadata": {},
   "outputs": [
    {
     "data": {
      "text/plain": [
       "array([[1., 2., 3.]])"
      ]
     },
     "execution_count": 29,
     "metadata": {},
     "output_type": "execute_result"
    }
   ],
   "source": [
    "x_train2"
   ]
  },
  {
   "cell_type": "code",
   "execution_count": 17,
   "id": "04aaa93a",
   "metadata": {},
   "outputs": [
    {
     "data": {
      "text/plain": [
       "['Combi',\n",
       " 'Criterion',\n",
       " 'CriterionType',\n",
       " 'Mia',\n",
       " 'Multi',\n",
       " 'ParallelCriterion',\n",
       " 'PolynomialType',\n",
       " 'Ria',\n",
       " 'SequentialCriterion',\n",
       " 'Solver',\n",
       " '__builtins__',\n",
       " '__cached__',\n",
       " '__doc__',\n",
       " '__file__',\n",
       " '__loader__',\n",
       " '__name__',\n",
       " '__package__',\n",
       " '__path__',\n",
       " '__spec__',\n",
       " '_gmdh_core',\n",
       " 'gmdh',\n",
       " 'split_data',\n",
       " 'time_series_transformation']"
      ]
     },
     "execution_count": 17,
     "metadata": {},
     "output_type": "execute_result"
    }
   ],
   "source": [
    "dir(gmdh)"
   ]
  },
  {
   "cell_type": "code",
   "execution_count": 18,
   "id": "039f7acd",
   "metadata": {},
   "outputs": [],
   "source": [
    "gmdh.Combi.predict?"
   ]
  },
  {
   "cell_type": "code",
   "execution_count": 20,
   "id": "5bd45a3f",
   "metadata": {},
   "outputs": [
    {
     "ename": "ValueError",
     "evalue": "lags value must be a positive integer",
     "output_type": "error",
     "traceback": [
      "\u001b[1;31m---------------------------------------------------------------------------\u001b[0m",
      "\u001b[1;31mValueError\u001b[0m                                Traceback (most recent call last)",
      "Input \u001b[1;32mIn [20]\u001b[0m, in \u001b[0;36m<cell line: 1>\u001b[1;34m()\u001b[0m\n\u001b[1;32m----> 1\u001b[0m X, y \u001b[38;5;241m=\u001b[39m \u001b[43mgmdh\u001b[49m\u001b[38;5;241;43m.\u001b[39;49m\u001b[43mtime_series_transformation\u001b[49m\u001b[43m(\u001b[49m\u001b[43m[\u001b[49m\u001b[38;5;241;43m1\u001b[39;49m\u001b[43m,\u001b[49m\u001b[43m \u001b[49m\u001b[38;5;241;43m2\u001b[39;49m\u001b[43m,\u001b[49m\u001b[43m \u001b[49m\u001b[38;5;241;43m3\u001b[39;49m\u001b[43m,\u001b[49m\u001b[43m \u001b[49m\u001b[38;5;241;43m4\u001b[39;49m\u001b[43m,\u001b[49m\u001b[43m \u001b[49m\u001b[38;5;241;43m5\u001b[39;49m\u001b[43m,\u001b[49m\u001b[43m \u001b[49m\u001b[38;5;241;43m6\u001b[39;49m\u001b[43m,\u001b[49m\u001b[43m \u001b[49m\u001b[38;5;241;43m7\u001b[39;49m\u001b[43m,\u001b[49m\u001b[43m \u001b[49m\u001b[38;5;241;43m8\u001b[39;49m\u001b[43m,\u001b[49m\u001b[43m \u001b[49m\u001b[38;5;241;43m9\u001b[39;49m\u001b[43m,\u001b[49m\u001b[43m \u001b[49m\u001b[38;5;241;43m10\u001b[39;49m\u001b[43m,\u001b[49m\u001b[43m \u001b[49m\u001b[38;5;241;43m11\u001b[39;49m\u001b[43m]\u001b[49m\u001b[43m,\u001b[49m\u001b[43m \u001b[49m\u001b[43mlags\u001b[49m\u001b[38;5;241;43m=\u001b[39;49m\u001b[38;5;241;43m0\u001b[39;49m\u001b[43m)\u001b[49m\n\u001b[0;32m      2\u001b[0m x_train, x_test, y_train, y_test \u001b[38;5;241m=\u001b[39m gmdh\u001b[38;5;241m.\u001b[39msplit_data(X, y)\n\u001b[0;32m      3\u001b[0m y_test\n",
      "File \u001b[1;32mc:\\users\\mi\\documents\\diploma\\gmdh\\gmdh\\gmdh.py:1022\u001b[0m, in \u001b[0;36mtime_series_transformation\u001b[1;34m(time_series, lags)\u001b[0m\n\u001b[0;32m    991\u001b[0m \u001b[38;5;28;01mdef\u001b[39;00m \u001b[38;5;21mtime_series_transformation\u001b[39m(time_series, lags):\n\u001b[0;32m    992\u001b[0m     \u001b[38;5;124;03m\"\"\"\u001b[39;00m\n\u001b[0;32m    993\u001b[0m \u001b[38;5;124;03m    Converting a time series into `X` and `y` data.\u001b[39;00m\n\u001b[0;32m    994\u001b[0m \n\u001b[1;32m   (...)\u001b[0m\n\u001b[0;32m   1020\u001b[0m \u001b[38;5;124;03m    array([4., 5., 6.])\u001b[39;00m\n\u001b[0;32m   1021\u001b[0m \u001b[38;5;124;03m    \"\"\"\u001b[39;00m\n\u001b[1;32m-> 1022\u001b[0m     \u001b[38;5;28;01mreturn\u001b[39;00m \u001b[43m_gmdh_core\u001b[49m\u001b[38;5;241;43m.\u001b[39;49m\u001b[43mtime_series_transformation\u001b[49m\u001b[43m(\u001b[49m\u001b[43mtime_series\u001b[49m\u001b[43m,\u001b[49m\u001b[43m \u001b[49m\u001b[43mlags\u001b[49m\u001b[43m)\u001b[49m\n",
      "\u001b[1;31mValueError\u001b[0m: lags value must be a positive integer"
     ]
    }
   ],
   "source": [
    "X, y = gmdh.time_series_transformation([1, 2, 3, 4, 5, 6, 7, 8, 9, 10, 11], lags=0)\n",
    "x_train, x_test, y_train, y_test = gmdh.split_data(X, y)\n",
    "y_test"
   ]
  },
  {
   "cell_type": "code",
   "execution_count": 10,
   "id": "0dbd1f75",
   "metadata": {},
   "outputs": [
    {
     "data": {
      "text/plain": [
       "array([10., 11.])"
      ]
     },
     "execution_count": 10,
     "metadata": {},
     "output_type": "execute_result"
    }
   ],
   "source": [
    "model = gmdh.Ria()\n",
    "y_pred = model.fit(x_train, y_train).predict(x_test)\n",
    "y_pred"
   ]
  },
  {
   "cell_type": "code",
   "execution_count": 11,
   "id": "61369469",
   "metadata": {},
   "outputs": [
    {
     "data": {
      "text/plain": [
       "array([179.])"
      ]
     },
     "execution_count": 11,
     "metadata": {},
     "output_type": "execute_result"
    }
   ],
   "source": [
    "X = [[0, 1, 1],\n",
    "     [3, 5, 4],\n",
    "     [2, 1, 3],\n",
    "     [1, 1, 4],\n",
    "     [2, 2, 1],\n",
    "     [2, 6, 0],\n",
    "     [3, 3, 4]]\n",
    "y = [row[0]**2 + 10 * row[1]**2 + 80 for row in X]  # [90, 339, 94, 91, 124, 444, 179]\n",
    "x_train, x_test, y_train, y_test = gmdh.split_data(X, y)\n",
    "y_test"
   ]
  },
  {
   "cell_type": "code",
   "execution_count": 12,
   "id": "d8d439ac",
   "metadata": {},
   "outputs": [
    {
     "name": "stdout",
     "output_type": "stream",
     "text": [
      "y = x1^2 + 10*x2^2 + 80\n"
     ]
    }
   ],
   "source": [
    "model = gmdh.Ria()\n",
    "y_pred = model.fit(x_train, y_train).predict(x_test)\n",
    "y_pred\n",
    "print(model.get_best_polynomial())"
   ]
  }
 ],
 "metadata": {
  "kernelspec": {
   "display_name": "Python 3 (ipykernel)",
   "language": "python",
   "name": "python3"
  },
  "language_info": {
   "codemirror_mode": {
    "name": "ipython",
    "version": 3
   },
   "file_extension": ".py",
   "mimetype": "text/x-python",
   "name": "python",
   "nbconvert_exporter": "python",
   "pygments_lexer": "ipython3",
   "version": "3.8.6"
  }
 },
 "nbformat": 4,
 "nbformat_minor": 5
}
