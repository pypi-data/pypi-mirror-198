{
 "cells": [
  {
   "cell_type": "code",
   "execution_count": 1,
   "id": "ac228ba1",
   "metadata": {},
   "outputs": [],
   "source": [
    "import numpy\n",
    "import gmdh\n",
    "import _gmdh_core"
   ]
  },
  {
   "cell_type": "code",
   "execution_count": 17,
   "id": "61369469",
   "metadata": {},
   "outputs": [
    {
     "data": {
      "text/plain": [
       "array([64.])"
      ]
     },
     "execution_count": 17,
     "metadata": {},
     "output_type": "execute_result"
    }
   ],
   "source": [
    "X = [[0, 1, 2, 3],\n",
    "     [3, 4, 3, 2],\n",
    "     [2, 5, 1, 0],\n",
    "     [1, 1, 5, 6],\n",
    "     [2, 3, 1, 4],\n",
    "     [2, 6, 0, 1],\n",
    "     [3, 4, 2, 5]]\n",
    "y = [row[0]**2 + 2 * row[0] * row[3] + row[3]**2 for row in X]  #  [9, 25, 4, 49, 36, 9, 64]\n",
    "x_train, x_test, y_train, y_test = gmdh.split_data(X, y)\n",
    "y_test"
   ]
  },
  {
   "cell_type": "code",
   "execution_count": 18,
   "id": "97995219",
   "metadata": {},
   "outputs": [
    {
     "data": {
      "text/plain": [
       "[9, 25, 4, 49, 36, 9, 64]"
      ]
     },
     "execution_count": 18,
     "metadata": {},
     "output_type": "execute_result"
    }
   ],
   "source": [
    "y"
   ]
  },
  {
   "cell_type": "code",
   "execution_count": 16,
   "id": "d8d439ac",
   "metadata": {},
   "outputs": [
    {
     "name": "stdout",
     "output_type": "stream",
     "text": [
      "LEVEL 1  [=========================] 100% [00m:00s] (6 combinations) error=740.049383                                   \n",
      "LEVEL 2  [=========================] 100% [00m:00s] (3 combinations) error=740.049383                                   \n",
      "[55.91666667]\n",
      "y = - 9.1389*x1*x3 + 11.1944*x1^2 + 2.5*x3^2\n"
     ]
    },
    {
     "data": {
      "text/plain": [
       "<gmdh.gmdh.Mia at 0x14fcf4c9100>"
      ]
     },
     "execution_count": 16,
     "metadata": {},
     "output_type": "execute_result"
    }
   ],
   "source": [
    "model = gmdh.Mia()\n",
    "y_pred = model.fit(x_train, y_train, verbose=True).predict(x_test)\n",
    "print(y_pred)\n",
    "print(model.get_best_polynomial())\n",
    "model.save('mia error')"
   ]
  },
  {
   "cell_type": "code",
   "execution_count": 28,
   "id": "666ed8c2",
   "metadata": {},
   "outputs": [
    {
     "name": "stdout",
     "output_type": "stream",
     "text": [
      "f1_1 = 31.6667*x1 + 17.6667*x2 - 9.6667\n",
      "f1_2 = 40.2857*x2 + 27.1429*x3 - 86.5714\n",
      "\n",
      "y = f1_1 + 1.85784e-14\n"
     ]
    }
   ],
   "source": []
  },
  {
   "cell_type": "code",
   "execution_count": 2,
   "id": "da2866e7",
   "metadata": {},
   "outputs": [],
   "source": [
    "gmdh.Combi.predict?"
   ]
  },
  {
   "cell_type": "code",
   "execution_count": 6,
   "id": "1990c558",
   "metadata": {},
   "outputs": [],
   "source": [
    "from sklearn.ensemble import RandomForestClassifier"
   ]
  },
  {
   "cell_type": "code",
   "execution_count": 7,
   "id": "562567d8",
   "metadata": {},
   "outputs": [],
   "source": [
    "RandomForestClassifier?"
   ]
  },
  {
   "cell_type": "code",
   "execution_count": 2,
   "id": "ad39e7f1",
   "metadata": {},
   "outputs": [],
   "source": [
    "pc = gmdh.ParallelCriterion()\n",
    "pc.alpha = 4444"
   ]
  },
  {
   "cell_type": "code",
   "execution_count": 2,
   "id": "aeac068d",
   "metadata": {},
   "outputs": [],
   "source": [
    "model = gmdh.Multi()\n",
    "model.predict?"
   ]
  },
  {
   "cell_type": "code",
   "execution_count": 3,
   "id": "8476d745",
   "metadata": {},
   "outputs": [
    {
     "data": {
      "text/plain": [
       "<CriterionType.STABILITY: 2>"
      ]
     },
     "execution_count": 3,
     "metadata": {},
     "output_type": "execute_result"
    }
   ],
   "source": [
    "crit = gmdh.Criterion()\n",
    "crit.criterion_type = gmdh.CriterionType.STABILITY\n",
    "crit.criterion_type"
   ]
  },
  {
   "cell_type": "code",
   "execution_count": 6,
   "id": "7de019b9",
   "metadata": {},
   "outputs": [],
   "source": [
    "crit = gmdh.Criterion()\n",
    "crit.criterion_type = gmdh.CriterionType.STABILITY\n",
    "crit.solver = gmdh.Solver.FAST"
   ]
  },
  {
   "cell_type": "code",
   "execution_count": null,
   "id": "f359c7cd",
   "metadata": {},
   "outputs": [],
   "source": [
    "gmdh.Combi().fit()"
   ]
  },
  {
   "cell_type": "code",
   "execution_count": 10,
   "id": "3a775207",
   "metadata": {},
   "outputs": [
    {
     "data": {
      "text/plain": [
       "<CriterionType.STABILITY: 2>"
      ]
     },
     "execution_count": 10,
     "metadata": {},
     "output_type": "execute_result"
    }
   ],
   "source": [
    "crit.criterion_type"
   ]
  },
  {
   "cell_type": "code",
   "execution_count": 3,
   "id": "7176a3b0",
   "metadata": {},
   "outputs": [],
   "source": [
    "import pandas as pd\n",
    "pd.read_csv?"
   ]
  },
  {
   "cell_type": "code",
   "execution_count": 2,
   "id": "a4a0fe34",
   "metadata": {},
   "outputs": [
    {
     "data": {
      "text/plain": [
       "['Combi',\n",
       " 'Criterion',\n",
       " 'CriterionType',\n",
       " 'Mia',\n",
       " 'Multi',\n",
       " 'ParallelCriterion',\n",
       " 'PolynomialType',\n",
       " 'Ria',\n",
       " 'SequentialCriterion',\n",
       " 'Solver',\n",
       " '__builtins__',\n",
       " '__cached__',\n",
       " '__doc__',\n",
       " '__file__',\n",
       " '__loader__',\n",
       " '__name__',\n",
       " '__package__',\n",
       " '__path__',\n",
       " '__spec__',\n",
       " 'gmdh',\n",
       " 'split_data',\n",
       " 'time_series_transformation']"
      ]
     },
     "execution_count": 2,
     "metadata": {},
     "output_type": "execute_result"
    }
   ],
   "source": [
    "dir(gmdh)"
   ]
  },
  {
   "cell_type": "code",
   "execution_count": 11,
   "id": "324fc317",
   "metadata": {},
   "outputs": [],
   "source": [
    "import random"
   ]
  },
  {
   "cell_type": "code",
   "execution_count": 7,
   "id": "97908372",
   "metadata": {},
   "outputs": [
    {
     "ename": "NameError",
     "evalue": "name 'random' is not defined",
     "output_type": "error",
     "traceback": [
      "\u001b[1;31m---------------------------------------------------------------------------\u001b[0m",
      "\u001b[1;31mNameError\u001b[0m                                 Traceback (most recent call last)",
      "Input \u001b[1;32mIn [7]\u001b[0m, in \u001b[0;36m<cell line: 1>\u001b[1;34m()\u001b[0m\n\u001b[1;32m----> 1\u001b[0m data \u001b[38;5;241m=\u001b[39m [i \u001b[38;5;241m+\u001b[39m random\u001b[38;5;241m.\u001b[39mrandom() \u001b[38;5;28;01mfor\u001b[39;00m i \u001b[38;5;129;01min\u001b[39;00m \u001b[38;5;28mrange\u001b[39m(\u001b[38;5;241m200\u001b[39m)]\n\u001b[0;32m      2\u001b[0m X, y \u001b[38;5;241m=\u001b[39m gmdh\u001b[38;5;241m.\u001b[39mtime_series_transformation(data, lags\u001b[38;5;241m=\u001b[39m\u001b[38;5;241m10\u001b[39m)\n\u001b[0;32m      3\u001b[0m x_train, x_test, y_train, y_test \u001b[38;5;241m=\u001b[39m gmdh\u001b[38;5;241m.\u001b[39msplit_data(X, y, test_size\u001b[38;5;241m=\u001b[39m\u001b[38;5;241m0.3\u001b[39m)\n",
      "Input \u001b[1;32mIn [7]\u001b[0m, in \u001b[0;36m<listcomp>\u001b[1;34m(.0)\u001b[0m\n\u001b[1;32m----> 1\u001b[0m data \u001b[38;5;241m=\u001b[39m [i \u001b[38;5;241m+\u001b[39m \u001b[43mrandom\u001b[49m\u001b[38;5;241m.\u001b[39mrandom() \u001b[38;5;28;01mfor\u001b[39;00m i \u001b[38;5;129;01min\u001b[39;00m \u001b[38;5;28mrange\u001b[39m(\u001b[38;5;241m200\u001b[39m)]\n\u001b[0;32m      2\u001b[0m X, y \u001b[38;5;241m=\u001b[39m gmdh\u001b[38;5;241m.\u001b[39mtime_series_transformation(data, lags\u001b[38;5;241m=\u001b[39m\u001b[38;5;241m10\u001b[39m)\n\u001b[0;32m      3\u001b[0m x_train, x_test, y_train, y_test \u001b[38;5;241m=\u001b[39m gmdh\u001b[38;5;241m.\u001b[39msplit_data(X, y, test_size\u001b[38;5;241m=\u001b[39m\u001b[38;5;241m0.3\u001b[39m)\n",
      "\u001b[1;31mNameError\u001b[0m: name 'random' is not defined"
     ]
    }
   ],
   "source": [
    "data = [i + random.random() for i in range(200)]\n",
    "X, y = gmdh.time_series_transformation(data, lags=10)\n",
    "x_train, x_test, y_train, y_test = gmdh.split_data(X, y, test_size=0.3)\n",
    "x_train, x_test, y_train, y_test\n",
    "crit = gmdh.Criterion(gmdh.CriterionType.REGULARITY)\n",
    "poly = gmdh.PolynomialType.LINEAR"
   ]
  },
  {
   "cell_type": "code",
   "execution_count": 14,
   "id": "85922b3a",
   "metadata": {},
   "outputs": [
    {
     "data": {
      "text/plain": [
       "'aaaaaa'"
      ]
     },
     "execution_count": 14,
     "metadata": {},
     "output_type": "execute_result"
    }
   ],
   "source": [
    "crit.solver"
   ]
  },
  {
   "cell_type": "code",
   "execution_count": null,
   "id": "2d73116d",
   "metadata": {},
   "outputs": [],
   "source": [
    "crit."
   ]
  },
  {
   "cell_type": "code",
   "execution_count": 9,
   "id": "4fdcc97b",
   "metadata": {},
   "outputs": [
    {
     "data": {
      "text/plain": [
       "<_gmdh_core.Criterion at 0x1c5f8046570>"
      ]
     },
     "execution_count": 9,
     "metadata": {},
     "output_type": "execute_result"
    }
   ],
   "source": [
    "crit._core_criterion()"
   ]
  },
  {
   "cell_type": "code",
   "execution_count": 13,
   "id": "a36d6cc6",
   "metadata": {},
   "outputs": [
    {
     "name": "stdout",
     "output_type": "stream",
     "text": [
      "LEVEL 1  [=========================] 100% [00m:00s] (45 combinations) error=19.577183                                   \n",
      "LEVEL 2  [=========================] 100% [00m:00s] (3 combinations) error=27.195062                                    \n"
     ]
    },
    {
     "data": {
      "text/plain": [
       "'y = - 0.5622*x8 + 1.5567*x10 + 0.5381*x8*x10 - 0.2694*x8^2 - 0.2687*x10^2 + 1.0581'"
      ]
     },
     "execution_count": 13,
     "metadata": {},
     "output_type": "execute_result"
    }
   ],
   "source": [
    "model = gmdh.Mia()\n",
    "model.fit(x_train, y_train, crit, verbose=True)\n",
    "model.predict(x_test[0], lags=1)\n",
    "model.get_best_polynomial()"
   ]
  },
  {
   "cell_type": "code",
   "execution_count": 11,
   "id": "df8420d4",
   "metadata": {},
   "outputs": [
    {
     "name": "stdout",
     "output_type": "stream",
     "text": [
      "LEVEL 1  [=========================] 100% [00m:00s] (10 combinations) error=10.138044                                   \n",
      "LEVEL 2  [=========================] 100% [00m:00s] (24 combinations) error=6.952492                                    \n",
      "LEVEL 3  [=========================] 100% [00m:00s] (22 combinations) error=6.808803                                    \n",
      "LEVEL 4  [=========================] 100% [00m:00s] (19 combinations) error=6.936355                                    \n",
      "multi\n",
      "base\n"
     ]
    },
    {
     "data": {
      "text/plain": [
       "array([143.59286148])"
      ]
     },
     "execution_count": 11,
     "metadata": {},
     "output_type": "execute_result"
    }
   ],
   "source": [
    "model = gmdh.Multi()\n",
    "model.fit(x_train, y_train, crit, verbose=True)\n",
    "model.predict(x_test[0], lags=1)"
   ]
  },
  {
   "cell_type": "code",
   "execution_count": 4,
   "id": "4a954e77",
   "metadata": {},
   "outputs": [],
   "source": [
    "gmdh.split_data?"
   ]
  },
  {
   "cell_type": "code",
   "execution_count": 9,
   "id": "dacec7d9",
   "metadata": {},
   "outputs": [
    {
     "data": {
      "text/plain": [
       "array([5., 8.])"
      ]
     },
     "execution_count": 9,
     "metadata": {},
     "output_type": "execute_result"
    }
   ],
   "source": [
    "X = [[1, 2], [3, 2], [7, 0], [5, 5], [1, 4], [2, 6]]\n",
    "y = [sum(row) for row in X]  # [3, 5, 7, 10, 5, 8]\n",
    "x_train, x_test, y_train, y_test = gmdh.split_data(X, y, test_size=0.33)\n",
    "y_test"
   ]
  },
  {
   "cell_type": "code",
   "execution_count": 10,
   "id": "b9af0371",
   "metadata": {},
   "outputs": [
    {
     "data": {
      "text/plain": [
       "array([5., 8.])"
      ]
     },
     "execution_count": 10,
     "metadata": {},
     "output_type": "execute_result"
    }
   ],
   "source": [
    "model = gmdh.Combi()\n",
    "model.fit(x_train, y_train)\n",
    "model.predict(x_test)"
   ]
  },
  {
   "cell_type": "code",
   "execution_count": 5,
   "id": "a95cf506",
   "metadata": {},
   "outputs": [
    {
     "ename": "NameError",
     "evalue": "name 'model' is not defined",
     "output_type": "error",
     "traceback": [
      "\u001b[1;31m---------------------------------------------------------------------------\u001b[0m",
      "\u001b[1;31mNameError\u001b[0m                                 Traceback (most recent call last)",
      "Input \u001b[1;32mIn [5]\u001b[0m, in \u001b[0;36m<cell line: 1>\u001b[1;34m()\u001b[0m\n\u001b[1;32m----> 1\u001b[0m \u001b[43mmodel\u001b[49m\u001b[38;5;241m.\u001b[39mget_best_polynomial()\n",
      "\u001b[1;31mNameError\u001b[0m: name 'model' is not defined"
     ]
    }
   ],
   "source": [
    "model.get_best_polynomial()"
   ]
  },
  {
   "cell_type": "code",
   "execution_count": 2,
   "id": "40859061",
   "metadata": {},
   "outputs": [
    {
     "data": {
      "text/plain": [
       "array([13., 21.])"
      ]
     },
     "execution_count": 2,
     "metadata": {},
     "output_type": "execute_result"
    }
   ],
   "source": [
    "X, y = gmdh.time_series_transformation([1, 1, 2, 3, 5, 8, 13, 21], lags=2)\n",
    "x_train, x_test, y_train, y_test = gmdh.split_data(X, y, test_size=0.25)\n",
    "model = gmdh.Combi()\n",
    "model.fit(x_train, y_train).predict(x_test)"
   ]
  },
  {
   "cell_type": "code",
   "execution_count": 3,
   "id": "406c0849",
   "metadata": {},
   "outputs": [
    {
     "data": {
      "text/plain": [
       "'\\n        aaaaaaaaaaaaaaaaaaaaa\\n        '"
      ]
     },
     "execution_count": 3,
     "metadata": {},
     "output_type": "execute_result"
    }
   ],
   "source": [
    "model.get_best_polynomial.__doc__"
   ]
  },
  {
   "cell_type": "code",
   "execution_count": 4,
   "id": "cbbc3043",
   "metadata": {},
   "outputs": [
    {
     "name": "stdout",
     "output_type": "stream",
     "text": [
      "\n",
      "        Getting a string representation of the formula of the best polynomial.\n",
      "\n",
      "        Using this method you can see the polynomial that was constructed\n",
      "        during the fitting process and will be used for predictions.\n",
      "\n",
      "        Returns\n",
      "        -------\n",
      "        polynomial : str\n",
      "            Polynomial of the fitted model\n",
      "\n",
      "        Examples\n",
      "        --------\n",
      "        >>> X, y = gmdh.time_series_transformation([1, 1, 2, 3, 5, 8, 13, 21], lags=2)  # fibonacci numbers\n",
      "        >>> x_train, x_test, y_train, y_test = gmdh.split_data(X, y, test_size=0.25)\n",
      "        >>> model = gmdh.Combi()\n",
      "        >>> model.fit(x_train, y_train).predict(x_test)\n",
      "        array([13., 21.])\n",
      "        >>> model.get_best_polynomial()\n",
      "        'y = 1*x1 + 1*x2'\n",
      "        \n"
     ]
    },
    {
     "ename": "TypeError",
     "evalue": "unsupported operand type(s) for +: 'NoneType' and 'str'",
     "output_type": "error",
     "traceback": [
      "\u001b[1;31m---------------------------------------------------------------------------\u001b[0m",
      "\u001b[1;31mTypeError\u001b[0m                                 Traceback (most recent call last)",
      "Input \u001b[1;32mIn [4]\u001b[0m, in \u001b[0;36m<cell line: 1>\u001b[1;34m()\u001b[0m\n\u001b[1;32m----> 1\u001b[0m \u001b[43mmodel\u001b[49m\u001b[38;5;241;43m.\u001b[39;49m\u001b[43mget_best_polynomial\u001b[49m\u001b[43m(\u001b[49m\u001b[43m)\u001b[49m\n",
      "File \u001b[1;32mC:/Users/Mi/Documents/Diploma/GMDH\\gmdh\\gmdh.py:269\u001b[0m, in \u001b[0;36mCombi.get_best_polynomial\u001b[1;34m(self)\u001b[0m\n\u001b[0;32m    265\u001b[0m \u001b[38;5;124;03m\"\"\"\u001b[39;00m\n\u001b[0;32m    266\u001b[0m \u001b[38;5;124;03maaaaaaaaaaaaaaaaaaaaa\u001b[39;00m\n\u001b[0;32m    267\u001b[0m \u001b[38;5;124;03m\"\"\"\u001b[39;00m\n\u001b[0;32m    268\u001b[0m \u001b[38;5;28mprint\u001b[39m(Model\u001b[38;5;241m.\u001b[39mget_best_polynomial\u001b[38;5;241m.\u001b[39m\u001b[38;5;18m__doc__\u001b[39m)\n\u001b[1;32m--> 269\u001b[0m \u001b[38;5;28mself\u001b[39m\u001b[38;5;241m.\u001b[39m\u001b[38;5;18m__doc__\u001b[39m \u001b[38;5;241m=\u001b[39m \u001b[43mModel\u001b[49m\u001b[38;5;241;43m.\u001b[39;49m\u001b[38;5;18;43m__doc__\u001b[39;49m\u001b[43m \u001b[49m\u001b[38;5;241;43m+\u001b[39;49m\u001b[43m \u001b[49m\u001b[38;5;28;43mself\u001b[39;49m\u001b[38;5;241;43m.\u001b[39;49m\u001b[38;5;18;43m__doc__\u001b[39;49m\n\u001b[0;32m    270\u001b[0m \u001b[38;5;28;01mreturn\u001b[39;00m \u001b[38;5;28msuper\u001b[39m()\u001b[38;5;241m.\u001b[39mget_best_polynomial()\n",
      "\u001b[1;31mTypeError\u001b[0m: unsupported operand type(s) for +: 'NoneType' and 'str'"
     ]
    }
   ],
   "source": [
    "model.get_best_polynomial()"
   ]
  },
  {
   "cell_type": "code",
   "execution_count": null,
   "id": "31bc738b",
   "metadata": {},
   "outputs": [],
   "source": [
    "a, b, (a+b), (a+b+b), (2a+3b), (3a+5b)"
   ]
  },
  {
   "cell_type": "code",
   "execution_count": 12,
   "id": "fb10fed4",
   "metadata": {},
   "outputs": [
    {
     "data": {
      "text/plain": [
       "array([[ 8., 13., 21.]])"
      ]
     },
     "execution_count": 12,
     "metadata": {},
     "output_type": "execute_result"
    }
   ],
   "source": [
    "x_test"
   ]
  },
  {
   "cell_type": "code",
   "execution_count": 8,
   "id": "9c297088",
   "metadata": {},
   "outputs": [],
   "source": [
    "from sklearn.linear_model import Lasso, Ridge\n",
    "Lasso.fit?"
   ]
  },
  {
   "cell_type": "code",
   "execution_count": 77,
   "id": "ac4c2d32",
   "metadata": {},
   "outputs": [],
   "source": [
    "DecisionTreeRegressor.predict?"
   ]
  },
  {
   "cell_type": "code",
   "execution_count": 63,
   "id": "487c5d96",
   "metadata": {},
   "outputs": [
    {
     "data": {
      "text/plain": [
       "<gmdh.gmdh.Combi at 0x1bbac977640>"
      ]
     },
     "execution_count": 63,
     "metadata": {},
     "output_type": "execute_result"
    }
   ],
   "source": [
    "model1.fit(X=[[0, 2], [7, 4], [5, 5], [9, 12]], y=[2, 11, 10, 21])"
   ]
  },
  {
   "cell_type": "code",
   "execution_count": 59,
   "id": "1a489ec5",
   "metadata": {},
   "outputs": [
    {
     "data": {
      "text/plain": [
       "array([ 7., 12.])"
      ]
     },
     "execution_count": 59,
     "metadata": {},
     "output_type": "execute_result"
    }
   ],
   "source": [
    "model1 = gmdh.Combi()\n",
    "model1.fit(X=[[0, 2], [7, 4], [5, 5], [9, 12]], y=[2, 11, 10, 21])\n",
    "model1.predict([[4, 3], [1, 11]])"
   ]
  },
  {
   "cell_type": "code",
   "execution_count": 40,
   "id": "ec02b029",
   "metadata": {},
   "outputs": [
    {
     "data": {
      "text/plain": [
       "<gmdh.gmdh.Combi at 0x1bbada8c910>"
      ]
     },
     "execution_count": 40,
     "metadata": {},
     "output_type": "execute_result"
    }
   ],
   "source": [
    "model1.save('model1.json')"
   ]
  },
  {
   "cell_type": "code",
   "execution_count": 56,
   "id": "aa3eebfc",
   "metadata": {},
   "outputs": [
    {
     "data": {
      "text/plain": [
       "<gmdh.gmdh.Combi at 0x1bbada8c0d0>"
      ]
     },
     "execution_count": 56,
     "metadata": {},
     "output_type": "execute_result"
    }
   ],
   "source": [
    "model2 = gmdh.Combi()\n",
    "model2.load('model1.json')"
   ]
  },
  {
   "cell_type": "code",
   "execution_count": 30,
   "id": "4a39e662",
   "metadata": {},
   "outputs": [
    {
     "data": {
      "text/plain": [
       "array([ 7., 12.])"
      ]
     },
     "execution_count": 30,
     "metadata": {},
     "output_type": "execute_result"
    }
   ],
   "source": [
    "model2.predict([[4, 3], [1, 11]])"
   ]
  },
  {
   "cell_type": "code",
   "execution_count": 62,
   "id": "517e0e6e",
   "metadata": {},
   "outputs": [],
   "source": [
    "import numpy\n",
    "numpy.mean?"
   ]
  }
 ],
 "metadata": {
  "kernelspec": {
   "display_name": "Python 3 (ipykernel)",
   "language": "python",
   "name": "python3"
  },
  "language_info": {
   "codemirror_mode": {
    "name": "ipython",
    "version": 3
   },
   "file_extension": ".py",
   "mimetype": "text/x-python",
   "name": "python",
   "nbconvert_exporter": "python",
   "pygments_lexer": "ipython3",
   "version": "3.8.6"
  }
 },
 "nbformat": 4,
 "nbformat_minor": 5
}
