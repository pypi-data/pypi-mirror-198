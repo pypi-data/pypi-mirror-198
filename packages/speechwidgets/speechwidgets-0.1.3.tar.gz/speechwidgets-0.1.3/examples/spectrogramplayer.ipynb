{
 "cells": [
  {
   "cell_type": "markdown",
   "metadata": {},
   "source": [
    "# Example Usage: `SpectrogramPlayer`"
   ]
  },
  {
   "cell_type": "code",
   "execution_count": 3,
   "metadata": {},
   "outputs": [],
   "source": [
    "from speechwidgets import SpectrogramPlayer"
   ]
  },
  {
   "cell_type": "markdown",
   "metadata": {},
   "source": [
    "Basic usage:"
   ]
  },
  {
   "cell_type": "code",
   "execution_count": 7,
   "metadata": {},
   "outputs": [
    {
     "data": {
      "application/vnd.jupyter.widget-view+json": {
       "model_id": "bcb4805bde32491eabe448f16d62f24c",
       "version_major": 2,
       "version_minor": 0
      },
      "text/plain": [
       "SpectrogramPlayer(nav_height=60, spec_height=200, src='data:audio/wav;base64,UklGRsS+BQBXQVZFZm10IBAAAAABAAEAg…"
      ]
     },
     "execution_count": 7,
     "metadata": {},
     "output_type": "execute_result"
    }
   ],
   "source": [
    "SpectrogramPlayer(\n",
    "    wav_file_path='./19-198-0001.wav',\n",
    "    width=800,\n",
    "    spec_height=200,\n",
    "    navigator=True,\n",
    "    nav_height=60,\n",
    ")"
   ]
  },
  {
   "cell_type": "markdown",
   "metadata": {},
   "source": [
    "Advanced usage:"
   ]
  },
  {
   "cell_type": "code",
   "execution_count": 14,
   "metadata": {},
   "outputs": [
    {
     "data": {
      "application/vnd.jupyter.widget-view+json": {
       "model_id": "48e7762ae3b64a53935254d259780e2e",
       "version_major": 2,
       "version_minor": 0
      },
      "text/plain": [
       "SpectrogramPlayer(colormap='greys', navigator=False, settings=False, spec_height=200, src='data:audio/wav;base…"
      ]
     },
     "execution_count": 14,
     "metadata": {},
     "output_type": "execute_result"
    }
   ],
   "source": [
    "SpectrogramPlayer(\n",
    "    wav_file_path='./19-198-0001.wav',\n",
    "    width=800,\n",
    "    spec_height=200,\n",
    "    navigator=False,\n",
    "    settings=False,\n",
    "    colormap=\"greys\",\n",
    "    transparent=False, # draws\n",
    "    dark=False, # to supp\n",
    "    \n",
    "    # mel spec parameters:\n",
    "    n_fft=2048,\n",
    "    win_length=400,\n",
    "    hop_length=160,\n",
    "    f_min=50, \n",
    "    n_mels=80,\n",
    "    power=1.0,\n",
    "    \n",
    "    # amplitude to db parameter:\n",
    "    top_db=80 \n",
    ")"
   ]
  },
  {
   "cell_type": "code",
   "execution_count": null,
   "metadata": {},
   "outputs": [],
   "source": []
  }
 ],
 "metadata": {
  "kernelspec": {
   "display_name": "Python 3 (ipykernel)",
   "language": "python",
   "name": "python3"
  },
  "language_info": {
   "codemirror_mode": {
    "name": "ipython",
    "version": 3
   },
   "file_extension": ".py",
   "mimetype": "text/x-python",
   "name": "python",
   "nbconvert_exporter": "python",
   "pygments_lexer": "ipython3",
   "version": "3.11.0"
  }
 },
 "nbformat": 4,
 "nbformat_minor": 4
}
