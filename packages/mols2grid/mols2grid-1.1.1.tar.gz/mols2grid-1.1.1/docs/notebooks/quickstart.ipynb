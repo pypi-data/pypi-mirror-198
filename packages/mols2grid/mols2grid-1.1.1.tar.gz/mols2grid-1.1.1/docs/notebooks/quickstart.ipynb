{
 "cells": [
  {
   "cell_type": "markdown",
   "metadata": {},
   "source": [
    "# Quickstart\n",
    "\n",
    "[![Open In Colab](https://colab.research.google.com/assets/colab-badge.svg)](https://colab.research.google.com/github/cbouy/mols2grid/blob/master/docs/notebooks/quickstart.ipynb)\n",
    "\n",
    "The easiest way to use mols2grid is through the `mols2grid.display` function. The input can be a DataFrame, a list of RDKit molecules, or an SDFile."
   ]
  },
  {
   "cell_type": "code",
   "execution_count": null,
   "metadata": {},
   "outputs": [],
   "source": [
    "# uncomment and run if you're on Google Colab\n",
    "# !pip install rdkit mols2grid\n",
    "# !wget https://raw.githubusercontent.com/rdkit/rdkit/master/Docs/Book/data/solubility.test.sdf"
   ]
  },
  {
   "cell_type": "code",
   "execution_count": null,
   "metadata": {},
   "outputs": [],
   "source": [
    "from pathlib import Path\n",
    "\n",
    "from rdkit import RDConfig\n",
    "\n",
    "import mols2grid\n",
    "\n",
    "\n",
    "SDF_FILE = (\n",
    "    f\"{RDConfig.RDDocsDir}/Book/data/solubility.test.sdf\"\n",
    "    if Path(RDConfig.RDDocsDir).is_dir()\n",
    "    else \"solubility.test.sdf\"\n",
    ")"
   ]
  },
  {
   "cell_type": "markdown",
   "metadata": {},
   "source": [
    "Let's start with an SDFile (`.sdf` and `.sdf.gz` are both supported):"
   ]
  },
  {
   "cell_type": "code",
   "execution_count": null,
   "metadata": {},
   "outputs": [],
   "source": [
    "mols2grid.display(SDF_FILE)"
   ]
  },
  {
   "cell_type": "markdown",
   "metadata": {},
   "source": [
    "From this interface, you can:\n",
    "\n",
    "- Make simple text searches using the searchbar on the bottom right\n",
    "- Make substructure queries by clicking on 🔎 > SMARTS and typing in the searchbar\n",
    "- Sort molecules by clicking on `Sort by` and selecting a field (click again to reverse the order)\n",
    "- Select a couple of molecules (click on the checkbox) and then export the selection to a SMILES or CSV file, or directly to the clipboard (this last functionality might be blocked depending on how you are running the notebook)"
   ]
  },
  {
   "cell_type": "markdown",
   "metadata": {},
   "source": [
    "We can also use a pandas DataFrame as input, containing a column of RDKit molecules (specified using `mol_col=...`) or SMILES strings (specified using `smiles_col=...`):"
   ]
  },
  {
   "cell_type": "code",
   "execution_count": null,
   "metadata": {},
   "outputs": [],
   "source": [
    "df = mols2grid.sdf_to_dataframe(SDF_FILE)\n",
    "subset_df = df.sample(50, random_state=0xac1d1c)\n",
    "mols2grid.display(subset_df, mol_col=\"mol\")"
   ]
  },
  {
   "cell_type": "markdown",
   "metadata": {},
   "source": [
    "Finally, we can also use a list of RDKit molecules:"
   ]
  },
  {
   "cell_type": "code",
   "execution_count": null,
   "metadata": {},
   "outputs": [],
   "source": [
    "mols = subset_df[\"mol\"].to_list()\n",
    "mols2grid.display(mols)"
   ]
  },
  {
   "cell_type": "markdown",
   "metadata": {},
   "source": [
    "But the main point of mols2grid is that the widget let's you access your selections from Python afterwards:"
   ]
  },
  {
   "cell_type": "code",
   "execution_count": null,
   "metadata": {},
   "outputs": [],
   "source": [
    "mols2grid.get_selection()"
   ]
  },
  {
   "cell_type": "markdown",
   "metadata": {},
   "source": [
    "If you were using a DataFrame, you can get the subset corresponding to your selection with:"
   ]
  },
  {
   "cell_type": "code",
   "execution_count": null,
   "metadata": {},
   "outputs": [],
   "source": [
    "df.iloc[list(mols2grid.get_selection().keys())]"
   ]
  },
  {
   "cell_type": "markdown",
   "metadata": {},
   "source": [
    "Finally, you can save the grid as a standalone HTML document. Simply replace `display` by `save` and add the path to the output file with `output=\"path/to/molecules.html\"`"
   ]
  },
  {
   "cell_type": "code",
   "execution_count": null,
   "metadata": {},
   "outputs": [],
   "source": [
    "mols2grid.save(mols, output=\"quickstart-grid.html\")"
   ]
  }
 ],
 "metadata": {
  "interpreter": {
   "hash": "634da3a3bbf8fbf1ddb65b0056d578c92f3c569db0da492ea274ae9d304e5b24"
  },
  "kernelspec": {
   "display_name": "Python 3.8.6 ('molgrid')",
   "language": "python",
   "name": "python3"
  },
  "language_info": {
   "codemirror_mode": {
    "name": "ipython",
    "version": 3
   },
   "file_extension": ".py",
   "mimetype": "text/x-python",
   "name": "python",
   "nbconvert_exporter": "python",
   "pygments_lexer": "ipython3",
   "version": "3.8.12"
  },
  "orig_nbformat": 4
 },
 "nbformat": 4,
 "nbformat_minor": 2
}
