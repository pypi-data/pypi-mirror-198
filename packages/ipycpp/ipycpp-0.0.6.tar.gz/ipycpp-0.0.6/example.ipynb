{
 "cells": [
  {
   "attachments": {},
   "cell_type": "markdown",
   "metadata": {},
   "source": [
    "## ipycpp notebook example\n"
   ]
  },
  {
   "cell_type": "code",
   "execution_count": 10,
   "metadata": {
    "vscode": {
     "languageId": "cpp"
    }
   },
   "outputs": [],
   "source": [
    "// $$ipycpp_file: example.cpp\n",
    "// $$ipycpp_build: g++ example.cpp -o example\n",
    "// $$ipycpp_run: ./example\n",
    "\n",
    "/* you may also declare global variables and include directives */\n",
    "\n",
    "#include <stdio.h>\n",
    "\n",
    "auto hello = \"hello world!\";"
   ]
  },
  {
   "cell_type": "code",
   "execution_count": 11,
   "metadata": {
    "vscode": {
     "languageId": "cpp"
    }
   },
   "outputs": [],
   "source": [
    "void printHelloWorld(){\n",
    "\tprintf(\"%s\\n\", hello);\n",
    "}"
   ]
  },
  {
   "cell_type": "code",
   "execution_count": 12,
   "metadata": {
    "vscode": {
     "languageId": "cpp"
    }
   },
   "outputs": [
    {
     "name": "stdout",
     "output_type": "stream",
     "text": [
      "hello world!\n"
     ]
    }
   ],
   "source": [
    "#ifdef IPYCPP_MAIN\n",
    "#define IPYCPP_MAIN_METHOD\n",
    "int main(){\n",
    "\tprintHelloWorld();\n",
    "}\n",
    "#endif"
   ]
  }
 ],
 "metadata": {
  "kernelspec": {
   "display_name": "ipycpp",
   "language": "cpp",
   "name": "ipycpp"
  },
  "language_info": {
   "file_extension": ".cpp",
   "mimetype": "text/cpp",
   "name": "Cpp files"
  },
  "orig_nbformat": 4
 },
 "nbformat": 4,
 "nbformat_minor": 2
}
