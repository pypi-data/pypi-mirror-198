{
 "cells": [
  {
   "cell_type": "markdown",
   "metadata": {},
   "source": [
    "---\n",
    "# Example #2\n",
    "---\n",
    "### How to use Send_data (and send_data_nidaq_gui) Graphical User Interface to send a signal from a file using a National Instruments board\n",
    "---"
   ]
  },
  {
   "cell_type": "markdown",
   "metadata": {},
   "source": [
    "### Importing library and starting up the GUI (Graphical User Interface)"
   ]
  },
  {
   "cell_type": "code",
   "execution_count": 1,
   "metadata": {},
   "outputs": [
    {
     "name": "stdout",
     "output_type": "stream",
     "text": [
      "Iteration: 0 of 20\n",
      "Iteration: 1 of 20\n",
      "Iteration: 2 of 20\n",
      "Iteration: 3 of 20\n",
      "Iteration: 4 of 20\n",
      "Iteration: 5 of 20\n",
      "Iteration: 6 of 20\n",
      "Iteration: 7 of 20\n",
      "Iteration: 8 of 20\n",
      "Iteration: 9 of 20\n",
      "Iteration: 10 of 20\n",
      "Iteration: 11 of 20\n",
      "Iteration: 12 of 20\n",
      "Iteration: 13 of 20\n",
      "Iteration: 14 of 20\n",
      "Iteration: 15 of 20\n",
      "Iteration: 16 of 20\n",
      "Iteration: 17 of 20\n",
      "Iteration: 18 of 20\n",
      "Iteration: 19 of 20\n",
      "Iteration: 20 of 20\n"
     ]
    }
   ],
   "source": [
    "from pydaq.send_data import Send_data\n",
    "\n",
    "# Class Send_data\n",
    "s = Send_data()\n",
    "\n",
    "# Method send_data_nidaq_gui\n",
    "s.send_data_nidaq_gui()"
   ]
  }
 ],
 "metadata": {
  "kernelspec": {
   "display_name": "Python 3 (ipykernel)",
   "language": "python",
   "name": "python3"
  },
  "language_info": {
   "codemirror_mode": {
    "name": "ipython",
    "version": 3
   },
   "file_extension": ".py",
   "mimetype": "text/x-python",
   "name": "python",
   "nbconvert_exporter": "python",
   "pygments_lexer": "ipython3",
   "version": "3.9.13"
  }
 },
 "nbformat": 4,
 "nbformat_minor": 1
}
