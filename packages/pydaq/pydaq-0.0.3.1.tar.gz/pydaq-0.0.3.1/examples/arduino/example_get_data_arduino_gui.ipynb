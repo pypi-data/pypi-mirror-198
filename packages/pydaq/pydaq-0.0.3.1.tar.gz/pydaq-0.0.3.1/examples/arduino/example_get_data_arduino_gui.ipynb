{
 "cells": [
  {
   "cell_type": "markdown",
   "metadata": {},
   "source": [
    "---\n",
    "# NOTE: file [arduino_code.ino](https://github.com/samirmartins/pydaq/blob/359823ffb244d6a3ee8124c57c3c2002281df8d8/pydaq/arduino_code/arduino_code.ino) should be loaded in Arduino before running this example\n",
    "---\n",
    "# Example #2\n",
    "---\n",
    "### How to use Get_data (and get_data_arduino_gui) Graphical User Interface to acquire signal using an Arduino board\n",
    "---"
   ]
  },
  {
   "cell_type": "markdown",
   "metadata": {},
   "source": [
    "### Importing library and starting up the GUI (Graphical User Interface)"
   ]
  },
  {
   "cell_type": "code",
   "execution_count": 1,
   "metadata": {},
   "outputs": [
    {
     "name": "stdout",
     "output_type": "stream",
     "text": [
      "Iteration: 0 of 20\n",
      "Iteration: 1 of 20\n",
      "Iteration: 2 of 20\n",
      "Iteration: 3 of 20\n",
      "Iteration: 4 of 20\n",
      "Iteration: 5 of 20\n",
      "Iteration: 6 of 20\n",
      "Iteration: 7 of 20\n",
      "Iteration: 8 of 20\n",
      "Iteration: 9 of 20\n",
      "Iteration: 10 of 20\n",
      "Iteration: 11 of 20\n",
      "Iteration: 12 of 20\n",
      "Iteration: 13 of 20\n",
      "Iteration: 14 of 20\n",
      "Iteration: 15 of 20\n",
      "Iteration: 16 of 20\n",
      "Iteration: 17 of 20\n",
      "Iteration: 18 of 20\n",
      "Iteration: 19 of 20\n",
      "Iteration: 20 of 20\n",
      "\n",
      "Saving data ...\n",
      "\n",
      "Data saved ...\n"
     ]
    }
   ],
   "source": [
    "from pydaq.get_data import Get_data\n",
    "\n",
    "# Class Get_data\n",
    "g = Get_data()\n",
    "\n",
    "# Method get_data_arduino\n",
    "g.get_data_arduino_gui()"
   ]
  },
  {
   "cell_type": "markdown",
   "source": [
    "### Showing acquired data"
   ],
   "metadata": {
    "collapsed": false
   }
  },
  {
   "cell_type": "code",
   "execution_count": 3,
   "outputs": [
    {
     "name": "stdout",
     "output_type": "stream",
     "text": [
      "First 10 values of time: \n",
      " [0.0, 0.5, 1.0, 1.5, 2.0, 2.5, 3.0, 3.5, 4.0, 4.5]\n",
      "\n",
      "First 10 values of data: \n",
      " [1.8994140625, 1.6650390625, 1.54296875, 1.455078125, 1.40625, 1.3720703125, 1.3427734375, 1.3232421875, 1.30859375, 1.30859375]\n"
     ]
    }
   ],
   "source": [
    "print(f'First 10 values of time: \\n {g.time_var[0:10]}')\n",
    "print(f'\\nFirst 10 values of data: \\n {g.data[0:10]}')"
   ],
   "metadata": {
    "collapsed": false
   }
  }
 ],
 "metadata": {
  "kernelspec": {
   "display_name": "Python 3 (ipykernel)",
   "language": "python",
   "name": "python3"
  },
  "language_info": {
   "codemirror_mode": {
    "name": "ipython",
    "version": 3
   },
   "file_extension": ".py",
   "mimetype": "text/x-python",
   "name": "python",
   "nbconvert_exporter": "python",
   "pygments_lexer": "ipython3",
   "version": "3.9.13"
  }
 },
 "nbformat": 4,
 "nbformat_minor": 1
}
