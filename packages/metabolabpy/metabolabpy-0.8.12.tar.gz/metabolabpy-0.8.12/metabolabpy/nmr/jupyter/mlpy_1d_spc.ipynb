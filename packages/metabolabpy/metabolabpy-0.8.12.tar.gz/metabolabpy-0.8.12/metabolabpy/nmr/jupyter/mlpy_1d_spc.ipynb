{
 "cells": [
  {
   "cell_type": "code",
   "execution_count": 1,
   "metadata": {
    "pycharm": {
     "name": "#%%\n"
    }
   },
   "outputs": [],
   "source": [
    "# import useful packages\n",
    "from metabolabpy.nmr import nmrDataSet\n",
    "from matplotlib import pyplot as pl\n",
    "import numpy as np\n",
    "import os\n",
    "from jupyterthemes import jtplot\n",
    "jtplot.style()\n",
    "%matplotlib notebook"
   ]
  },
  {
   "cell_type": "code",
   "execution_count": 3,
   "metadata": {
    "pycharm": {
     "name": "#%%\n"
    }
   },
   "outputs": [],
   "source": [
    "# create NmrDataSet object, download sample spectrum, load into NmrDataSet object and plot\n",
    "nd = nmrDataSet.NmrDataSet()\n",
    "mlpy_file = os.path.join(os.getcwd(), \"sample_1d_spc.mlpy\")\n",
    "nd.load(mlpy_file)\n",
    "nd.set_standard_plot_colours()\n",
    "nd.keep_zoom = False\n",
    "nd.plot_spc()"
   ]
  },
  {
   "cell_type": "code",
   "execution_count": 4,
   "metadata": {
    "pycharm": {
     "name": "#%%\n"
    }
   },
   "outputs": [
    {
     "name": "stdout",
     "output_type": "stream",
     "text": [
      "______________________________________________________________________________________\n",
      "\n",
      "MetaboLabPy NMR Data Set (ver. 0.7.15)\n",
      "______________________________________________________________________________________\n",
      "\n",
      " Number of data sets\t\t\t\t: 1\n",
      " Number of NMR spectra in current data set\t: 3\n",
      " Current data set/exp\t\t\t\t: 1/1\n",
      "______________________________________________________________________________________\n",
      "\n",
      "Current title file: \n",
      "1\n",
      "noesypr1d.jk H2O+D2O /opt/topspin3.0 byrnej {2  A1 - 201}\n",
      "\n"
     ]
    }
   ],
   "source": [
    "print(nd)"
   ]
  },
  {
   "cell_type": "code",
   "execution_count": 5,
   "outputs": [],
   "source": [
    "nd.plot_spc()"
   ],
   "metadata": {
    "collapsed": false,
    "pycharm": {
     "name": "#%%\n"
    }
   }
  },
  {
   "cell_type": "code",
   "execution_count": 6,
   "outputs": [],
   "source": [
    "pl.show()"
   ],
   "metadata": {
    "collapsed": false,
    "pycharm": {
     "name": "#%%\n"
    }
   }
  },
  {
   "cell_type": "code",
   "execution_count": null,
   "outputs": [],
   "source": [],
   "metadata": {
    "collapsed": false,
    "pycharm": {
     "name": "#%%\n"
    }
   }
  }
 ],
 "metadata": {
  "kernelspec": {
   "display_name": "Python 3 (ipykernel)",
   "language": "python",
   "name": "python3"
  },
  "language_info": {
   "codemirror_mode": {
    "name": "ipython",
    "version": 3
   },
   "file_extension": ".py",
   "mimetype": "text/x-python",
   "name": "python",
   "nbconvert_exporter": "python",
   "pygments_lexer": "ipython3",
   "version": "3.9.7"
  }
 },
 "nbformat": 4,
 "nbformat_minor": 4
}